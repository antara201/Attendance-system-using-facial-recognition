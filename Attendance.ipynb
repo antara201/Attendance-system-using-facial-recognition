{
 "cells": [
  {
   "cell_type": "code",
   "execution_count": 1,
   "metadata": {},
   "outputs": [
    {
     "name": "stdout",
     "output_type": "stream",
     "text": [
      "['Antara.jpg', 'Leonard.jpg', 'Penny.jpg', 'Rajesh.jpg', 'Sheldon.jpg']\n",
      "['Antara', 'Leonard', 'Penny', 'Rajesh', 'Sheldon']\n"
     ]
    }
   ],
   "source": [
    "import cv2\n",
    "import numpy as np\n",
    "import face_recognition\n",
    "import os\n",
    "from datetime import datetime\n",
    "path='Images_attendance'\n",
    "images_all=[]\n",
    "classNames=[]\n",
    "myList=os.listdir(path)\n",
    "print(myList)\n",
    "for cl in myList:\n",
    "    curImg=cv2.imread(f'{path}/{cl}')\n",
    "    images_all.append(curImg)\n",
    "    classNames.append(os.path.splitext(cl)[0])\n",
    "print(classNames)"
   ]
  },
  {
   "cell_type": "code",
   "execution_count": 2,
   "metadata": {},
   "outputs": [
    {
     "name": "stdout",
     "output_type": "stream",
     "text": [
      "Encoding done\n"
     ]
    }
   ],
   "source": [
    "def find_encodings(images_all):\n",
    "    encode_list=[]\n",
    "    for img in images_all:\n",
    "        img=cv2.cvtColor(img,cv2.COLOR_BGR2RGB)\n",
    "        encode=face_recognition.face_encodings(img)[0]\n",
    "        encode_list.append(encode)\n",
    "    return encode_list\n",
    "encode_list_known=find_encodings(images_all)\n",
    "print('Encoding done')"
   ]
  },
  {
   "cell_type": "code",
   "execution_count": 3,
   "metadata": {},
   "outputs": [],
   "source": [
    "def mark_attendance(name):\n",
    "    with open('atendance_record.csv','r+') as f:\n",
    "        myDataList=f.readlines()\n",
    "        nameList=[]\n",
    "        \n",
    "        print(myDataList)\n",
    "        for line in myDataList:\n",
    "            entry=line.split(',')\n",
    "            nameList.append(entry[0])\n",
    "        if name not in nameList:\n",
    "            now=datetime.now()\n",
    "            dtstring=now.strftime('%H:%M:%S')\n",
    "            f.writelines(f'\\n{name},{dtstring}')\n",
    "\n",
    "    \n",
    "    "
   ]
  },
  {
   "cell_type": "code",
   "execution_count": null,
   "metadata": {},
   "outputs": [
    {
     "name": "stdout",
     "output_type": "stream",
     "text": [
      "ANTARA\n",
      "['Name,Time\\n', ',\\n', ',\\n', ',\\n', ',\\n', ',\\n', ',\\n', ',\\n', ',\\n', ',\\n', '\\n', 'ANTARA,20:24:42\\n', 'PENNY,20:24:58']\n",
      "ANTARA\n",
      "['Name,Time\\n', ',\\n', ',\\n', ',\\n', ',\\n', ',\\n', ',\\n', ',\\n', ',\\n', ',\\n', '\\n', 'ANTARA,20:24:42\\n', 'PENNY,20:24:58']\n",
      "ANTARA\n",
      "['Name,Time\\n', ',\\n', ',\\n', ',\\n', ',\\n', ',\\n', ',\\n', ',\\n', ',\\n', ',\\n', '\\n', 'ANTARA,20:24:42\\n', 'PENNY,20:24:58']\n",
      "ANTARA\n",
      "['Name,Time\\n', ',\\n', ',\\n', ',\\n', ',\\n', ',\\n', ',\\n', ',\\n', ',\\n', ',\\n', '\\n', 'ANTARA,20:24:42\\n', 'PENNY,20:24:58']\n",
      "ANTARA\n",
      "['Name,Time\\n', ',\\n', ',\\n', ',\\n', ',\\n', ',\\n', ',\\n', ',\\n', ',\\n', ',\\n', '\\n', 'ANTARA,20:24:42\\n', 'PENNY,20:24:58']\n",
      "ANTARA\n",
      "['Name,Time\\n', ',\\n', ',\\n', ',\\n', ',\\n', ',\\n', ',\\n', ',\\n', ',\\n', ',\\n', '\\n', 'ANTARA,20:24:42\\n', 'PENNY,20:24:58']\n",
      "ANTARA\n",
      "['Name,Time\\n', ',\\n', ',\\n', ',\\n', ',\\n', ',\\n', ',\\n', ',\\n', ',\\n', ',\\n', '\\n', 'ANTARA,20:24:42\\n', 'PENNY,20:24:58']\n",
      "ANTARA\n",
      "['Name,Time\\n', ',\\n', ',\\n', ',\\n', ',\\n', ',\\n', ',\\n', ',\\n', ',\\n', ',\\n', '\\n', 'ANTARA,20:24:42\\n', 'PENNY,20:24:58']\n",
      "ANTARA\n",
      "['Name,Time\\n', ',\\n', ',\\n', ',\\n', ',\\n', ',\\n', ',\\n', ',\\n', ',\\n', ',\\n', '\\n', 'ANTARA,20:24:42\\n', 'PENNY,20:24:58']\n",
      "ANTARA\n",
      "['Name,Time\\n', ',\\n', ',\\n', ',\\n', ',\\n', ',\\n', ',\\n', ',\\n', ',\\n', ',\\n', '\\n', 'ANTARA,20:24:42\\n', 'PENNY,20:24:58']\n",
      "RAJESH\n",
      "['Name,Time\\n', ',\\n', ',\\n', ',\\n', ',\\n', ',\\n', ',\\n', ',\\n', ',\\n', ',\\n', '\\n', 'ANTARA,20:24:42\\n', 'PENNY,20:24:58']\n",
      "RAJESH\n",
      "['Name,Time\\n', ',\\n', ',\\n', ',\\n', ',\\n', ',\\n', ',\\n', ',\\n', ',\\n', ',\\n', '\\n', 'ANTARA,20:24:42\\n', 'PENNY,20:24:58\\n', 'RAJESH,20:29:05']\n",
      "RAJESH\n",
      "['Name,Time\\n', ',\\n', ',\\n', ',\\n', ',\\n', ',\\n', ',\\n', ',\\n', ',\\n', ',\\n', '\\n', 'ANTARA,20:24:42\\n', 'PENNY,20:24:58\\n', 'RAJESH,20:29:05']\n",
      "RAJESH\n",
      "['Name,Time\\n', ',\\n', ',\\n', ',\\n', ',\\n', ',\\n', ',\\n', ',\\n', ',\\n', ',\\n', '\\n', 'ANTARA,20:24:42\\n', 'PENNY,20:24:58\\n', 'RAJESH,20:29:05']\n",
      "ANTARA\n",
      "['Name,Time\\n', ',\\n', ',\\n', ',\\n', ',\\n', ',\\n', ',\\n', ',\\n', ',\\n', ',\\n', '\\n', 'ANTARA,20:24:42\\n', 'PENNY,20:24:58\\n', 'RAJESH,20:29:05']\n",
      "ANTARA\n",
      "['Name,Time\\n', ',\\n', ',\\n', ',\\n', ',\\n', ',\\n', ',\\n', ',\\n', ',\\n', ',\\n', '\\n', 'ANTARA,20:24:42\\n', 'PENNY,20:24:58\\n', 'RAJESH,20:29:05']\n",
      "ANTARA\n",
      "['Name,Time\\n', ',\\n', ',\\n', ',\\n', ',\\n', ',\\n', ',\\n', ',\\n', ',\\n', ',\\n', '\\n', 'ANTARA,20:24:42\\n', 'PENNY,20:24:58\\n', 'RAJESH,20:29:05']\n",
      "ANTARA\n",
      "['Name,Time\\n', ',\\n', ',\\n', ',\\n', ',\\n', ',\\n', ',\\n', ',\\n', ',\\n', ',\\n', '\\n', 'ANTARA,20:24:42\\n', 'PENNY,20:24:58\\n', 'RAJESH,20:29:05']\n",
      "ANTARA\n",
      "['Name,Time\\n', ',\\n', ',\\n', ',\\n', ',\\n', ',\\n', ',\\n', ',\\n', ',\\n', ',\\n', '\\n', 'ANTARA,20:24:42\\n', 'PENNY,20:24:58\\n', 'RAJESH,20:29:05']\n",
      "ANTARA\n",
      "['Name,Time\\n', ',\\n', ',\\n', ',\\n', ',\\n', ',\\n', ',\\n', ',\\n', ',\\n', ',\\n', '\\n', 'ANTARA,20:24:42\\n', 'PENNY,20:24:58\\n', 'RAJESH,20:29:05']\n",
      "ANTARA\n",
      "['Name,Time\\n', ',\\n', ',\\n', ',\\n', ',\\n', ',\\n', ',\\n', ',\\n', ',\\n', ',\\n', '\\n', 'ANTARA,20:24:42\\n', 'PENNY,20:24:58\\n', 'RAJESH,20:29:05']\n",
      "ANTARA\n",
      "['Name,Time\\n', ',\\n', ',\\n', ',\\n', ',\\n', ',\\n', ',\\n', ',\\n', ',\\n', ',\\n', '\\n', 'ANTARA,20:24:42\\n', 'PENNY,20:24:58\\n', 'RAJESH,20:29:05']\n",
      "ANTARA\n",
      "['Name,Time\\n', ',\\n', ',\\n', ',\\n', ',\\n', ',\\n', ',\\n', ',\\n', ',\\n', ',\\n', '\\n', 'ANTARA,20:24:42\\n', 'PENNY,20:24:58\\n', 'RAJESH,20:29:05']\n",
      "ANTARA\n",
      "['Name,Time\\n', ',\\n', ',\\n', ',\\n', ',\\n', ',\\n', ',\\n', ',\\n', ',\\n', ',\\n', '\\n', 'ANTARA,20:24:42\\n', 'PENNY,20:24:58\\n', 'RAJESH,20:29:05']\n",
      "ANTARA\n",
      "['Name,Time\\n', ',\\n', ',\\n', ',\\n', ',\\n', ',\\n', ',\\n', ',\\n', ',\\n', ',\\n', '\\n', 'ANTARA,20:24:42\\n', 'PENNY,20:24:58\\n', 'RAJESH,20:29:05']\n",
      "ANTARA\n",
      "['Name,Time\\n', ',\\n', ',\\n', ',\\n', ',\\n', ',\\n', ',\\n', ',\\n', ',\\n', ',\\n', '\\n', 'ANTARA,20:24:42\\n', 'PENNY,20:24:58\\n', 'RAJESH,20:29:05']\n",
      "ANTARA\n",
      "['Name,Time\\n', ',\\n', ',\\n', ',\\n', ',\\n', ',\\n', ',\\n', ',\\n', ',\\n', ',\\n', '\\n', 'ANTARA,20:24:42\\n', 'PENNY,20:24:58\\n', 'RAJESH,20:29:05']\n",
      "ANTARA\n",
      "['Name,Time\\n', ',\\n', ',\\n', ',\\n', ',\\n', ',\\n', ',\\n', ',\\n', ',\\n', ',\\n', '\\n', 'ANTARA,20:24:42\\n', 'PENNY,20:24:58\\n', 'RAJESH,20:29:05']\n",
      "ANTARA\n",
      "['Name,Time\\n', ',\\n', ',\\n', ',\\n', ',\\n', ',\\n', ',\\n', ',\\n', ',\\n', ',\\n', '\\n', 'ANTARA,20:24:42\\n', 'PENNY,20:24:58\\n', 'RAJESH,20:29:05']\n",
      "ANTARA\n",
      "['Name,Time\\n', ',\\n', ',\\n', ',\\n', ',\\n', ',\\n', ',\\n', ',\\n', ',\\n', ',\\n', '\\n', 'ANTARA,20:24:42\\n', 'PENNY,20:24:58\\n', 'RAJESH,20:29:05']\n",
      "ANTARA\n",
      "['Name,Time\\n', ',\\n', ',\\n', ',\\n', ',\\n', ',\\n', ',\\n', ',\\n', ',\\n', ',\\n', '\\n', 'ANTARA,20:24:42\\n', 'PENNY,20:24:58\\n', 'RAJESH,20:29:05']\n",
      "ANTARA\n",
      "['Name,Time\\n', ',\\n', ',\\n', ',\\n', ',\\n', ',\\n', ',\\n', ',\\n', ',\\n', ',\\n', '\\n', 'ANTARA,20:24:42\\n', 'PENNY,20:24:58\\n', 'RAJESH,20:29:05']\n",
      "ANTARA\n",
      "['Name,Time\\n', ',\\n', ',\\n', ',\\n', ',\\n', ',\\n', ',\\n', ',\\n', ',\\n', ',\\n', '\\n', 'ANTARA,20:24:42\\n', 'PENNY,20:24:58\\n', 'RAJESH,20:29:05']\n",
      "ANTARA\n",
      "['Name,Time\\n', ',\\n', ',\\n', ',\\n', ',\\n', ',\\n', ',\\n', ',\\n', ',\\n', ',\\n', '\\n', 'ANTARA,20:24:42\\n', 'PENNY,20:24:58\\n', 'RAJESH,20:29:05']\n",
      "ANTARA\n",
      "['Name,Time\\n', ',\\n', ',\\n', ',\\n', ',\\n', ',\\n', ',\\n', ',\\n', ',\\n', ',\\n', '\\n', 'ANTARA,20:24:42\\n', 'PENNY,20:24:58\\n', 'RAJESH,20:29:05']\n",
      "ANTARA\n",
      "['Name,Time\\n', ',\\n', ',\\n', ',\\n', ',\\n', ',\\n', ',\\n', ',\\n', ',\\n', ',\\n', '\\n', 'ANTARA,20:24:42\\n', 'PENNY,20:24:58\\n', 'RAJESH,20:29:05']\n",
      "ANTARA\n",
      "['Name,Time\\n', ',\\n', ',\\n', ',\\n', ',\\n', ',\\n', ',\\n', ',\\n', ',\\n', ',\\n', '\\n', 'ANTARA,20:24:42\\n', 'PENNY,20:24:58\\n', 'RAJESH,20:29:05']\n",
      "ANTARA\n",
      "['Name,Time\\n', ',\\n', ',\\n', ',\\n', ',\\n', ',\\n', ',\\n', ',\\n', ',\\n', ',\\n', '\\n', 'ANTARA,20:24:42\\n', 'PENNY,20:24:58\\n', 'RAJESH,20:29:05']\n",
      "ANTARA\n",
      "['Name,Time\\n', ',\\n', ',\\n', ',\\n', ',\\n', ',\\n', ',\\n', ',\\n', ',\\n', ',\\n', '\\n', 'ANTARA,20:24:42\\n', 'PENNY,20:24:58\\n', 'RAJESH,20:29:05']\n"
     ]
    }
   ],
   "source": [
    "cap=cv2.VideoCapture(0)\n",
    "while True:\n",
    "    success,image=cap.read()\n",
    "    image_small=cv2.resize(image,(0,0),None,0.25,0.25)\n",
    "    image_small=cv2.cvtColor(image_small,cv2.COLOR_BGR2RGB)\n",
    "    facesCurFrame=face_recognition.face_locations(image_small)\n",
    "    encodesCurFrame=face_recognition.face_encodings(image_small,facesCurFrame)\n",
    "    for encodeFace,faceLoc in zip(encodesCurFrame,facesCurFrame):\n",
    "        check=face_recognition.compare_faces(encode_list_known,encodeFace)\n",
    "        distance=face_recognition.face_distance(encode_list_known,encodeFace)\n",
    "        matchIndex=np.argmin(distance)\n",
    "        if check[matchIndex]:\n",
    "            name=classNames[matchIndex].upper()\n",
    "            print(name)\n",
    "            y1,x2,y2,x1=faceLoc\n",
    "            y1,x2,y2,x1=y1*4,x2*4,y2*4,x1*4\n",
    "            cv2.rectangle(image,(x1,y1),(x2,y2),(0,255,0),2)\n",
    "            cv2.rectangle(image,(x1,y2-35),(x2,y2),(0,255,0),cv2.FILLED)\n",
    "            cv2.putText(image,name,(x1+6,y2-6),cv2.FONT_HERSHEY_COMPLEX,1,(255,255,255),2)\n",
    "            mark_attendance(name)\n",
    "    cv2.imshow('webcam',image)\n",
    "    cv2.waitKey(1)\n",
    "\n",
    "    "
   ]
  },
  {
   "cell_type": "code",
   "execution_count": null,
   "metadata": {},
   "outputs": [],
   "source": []
  },
  {
   "cell_type": "code",
   "execution_count": null,
   "metadata": {},
   "outputs": [],
   "source": []
  }
 ],
 "metadata": {
  "kernelspec": {
   "display_name": "Python 3",
   "language": "python",
   "name": "python3"
  },
  "language_info": {
   "codemirror_mode": {
    "name": "ipython",
    "version": 3
   },
   "file_extension": ".py",
   "mimetype": "text/x-python",
   "name": "python",
   "nbconvert_exporter": "python",
   "pygments_lexer": "ipython3",
   "version": "3.8.5"
  }
 },
 "nbformat": 4,
 "nbformat_minor": 4
}
